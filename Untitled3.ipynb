{
 "cells": [
  {
   "cell_type": "code",
   "execution_count": 1,
   "metadata": {},
   "outputs": [
    {
     "name": "stdout",
     "output_type": "stream",
     "text": [
      "value= 1\n",
      "value= 2\n",
      "value= 3\n",
      "value= 4\n",
      "value= 5\n"
     ]
    }
   ],
   "source": [
    "import tkinter as tk\n",
    "\n",
    "class Counter:\n",
    "    def __init__(self, value):\n",
    "        self.value = value\n",
    "        frame =tk.Frame()\n",
    "        font = ('Helevetivcs', 32, 'bold')\n",
    "        self.label = tk.Label(frame,\n",
    "                              text=self.getText(),\n",
    "                              font=font,\n",
    "                              bg='red')\n",
    "        button = tk.Button(frame,\n",
    "                           text='Click',\n",
    "                           command=self.clicked)\n",
    "        \n",
    "        self.label.pack()\n",
    "        button.pack()\n",
    "        frame.pack()\n",
    "        frame.mainloop()\n",
    "        \n",
    "    def clicked(self):\n",
    "        self.value += 1\n",
    "        self.label.configure(text=self.getText())\n",
    "        \n",
    "    def getText(self):\n",
    "        return 'Count:{}'.format(self.value)\n",
    "    \n",
    "c = Counter(0)"
   ]
  },
  {
   "cell_type": "code",
   "execution_count": null,
   "metadata": {},
   "outputs": [],
   "source": []
  }
 ],
 "metadata": {
  "kernelspec": {
   "display_name": "Python 3",
   "language": "python",
   "name": "python3"
  },
  "language_info": {
   "codemirror_mode": {
    "name": "ipython",
    "version": 3
   },
   "file_extension": ".py",
   "mimetype": "text/x-python",
   "name": "python",
   "nbconvert_exporter": "python",
   "pygments_lexer": "ipython3",
   "version": "3.6.4"
  }
 },
 "nbformat": 4,
 "nbformat_minor": 2
}
